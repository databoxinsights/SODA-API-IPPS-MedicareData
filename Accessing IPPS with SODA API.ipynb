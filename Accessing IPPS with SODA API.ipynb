{
 "cells": [
  {
   "cell_type": "markdown",
   "metadata": {},
   "source": [
    "# Accessing IPPS Case Rate Data on data.cms.gov Using Socrata API\n",
    "\n",
    "All data is accessed from this page via the Socrata endpoint https://data.cms.gov/Medicare-Inpatient/Inpatient-Prospective-Payment-System-IPPS-Provider/fm2n-hjj6/data\n",
    "\n",
    "Pulling & querying the API endpoint is based on these open source examples from Socrata\n",
    "* basic queries: https://github.com/xmunoz/sodapy/blob/master/examples/basic_queries.ipynb\n",
    "* filter queries: https://github.com/xmunoz/sodapy/blob/master/examples/soql_queries.ipynb"
   ]
  },
  {
   "cell_type": "code",
   "execution_count": 36,
   "metadata": {},
   "outputs": [],
   "source": [
    "# import libraries\n",
    "import pandas as pd\n",
    "import os\n",
    "import numpy as np\n",
    "from sodapy import Socrata"
   ]
  },
  {
   "cell_type": "code",
   "execution_count": 37,
   "metadata": {},
   "outputs": [],
   "source": [
    "ipps_soda_endpoint = \"https://data.cms.gov/resource/t8zw-d33c.json\"\n",
    "ipps_soda_endpoint_domain = \"data.cms.gov/\"\n",
    "ipps_dataset_identifier = \"t8zw-d33c\""
   ]
  },
  {
   "cell_type": "code",
   "execution_count": 38,
   "metadata": {},
   "outputs": [],
   "source": [
    "socrata_token = os.environ.get(\"SODAPY_APPTOKEN\")"
   ]
  },
  {
   "cell_type": "code",
   "execution_count": 39,
   "metadata": {},
   "outputs": [
    {
     "name": "stderr",
     "output_type": "stream",
     "text": [
      "WARNING:root:Requests made without an app_token will be subject to strict throttling limits.\n"
     ]
    }
   ],
   "source": [
    "client = Socrata(ipps_soda_endpoint_domain, socrata_token)"
   ]
  },
  {
   "cell_type": "code",
   "execution_count": 40,
   "metadata": {},
   "outputs": [],
   "source": [
    "results = client.get(ipps_dataset_identifier)"
   ]
  },
  {
   "cell_type": "code",
   "execution_count": 41,
   "metadata": {},
   "outputs": [
    {
     "data": {
      "text/plain": [
       "{'drg_definition': '001 - HEART TRANSPLANT OR IMPLANT OF HEART ASSIST SYSTEM W MCC',\n",
       " 'provider_id': '100007',\n",
       " 'provider_name': 'FLORIDA HOSPITAL',\n",
       " 'provider_street_address': '601 E ROLLINS ST',\n",
       " 'provider_city': 'ORLANDO',\n",
       " 'provider_state': 'FL',\n",
       " 'provider_zip_code': '32803',\n",
       " 'hospital_referral_region_hrr_description': 'FL - Orlando',\n",
       " 'total_discharges': '36',\n",
       " 'average_covered_charges': '1126268.58',\n",
       " 'average_total_payments': '189464.00',\n",
       " 'average_medicare_payments': '182770.86'}"
      ]
     },
     "execution_count": 41,
     "metadata": {},
     "output_type": "execute_result"
    }
   ],
   "source": [
    "# sample the first json record\n",
    "results[0]"
   ]
  },
  {
   "cell_type": "code",
   "execution_count": 42,
   "metadata": {},
   "outputs": [
    {
     "data": {
      "text/html": [
       "<div>\n",
       "<style scoped>\n",
       "    .dataframe tbody tr th:only-of-type {\n",
       "        vertical-align: middle;\n",
       "    }\n",
       "\n",
       "    .dataframe tbody tr th {\n",
       "        vertical-align: top;\n",
       "    }\n",
       "\n",
       "    .dataframe thead th {\n",
       "        text-align: right;\n",
       "    }\n",
       "</style>\n",
       "<table border=\"1\" class=\"dataframe\">\n",
       "  <thead>\n",
       "    <tr style=\"text-align: right;\">\n",
       "      <th></th>\n",
       "      <th>average_covered_charges</th>\n",
       "      <th>average_medicare_payments</th>\n",
       "      <th>average_total_payments</th>\n",
       "      <th>drg_definition</th>\n",
       "      <th>hospital_referral_region_hrr_description</th>\n",
       "      <th>provider_city</th>\n",
       "      <th>provider_id</th>\n",
       "      <th>provider_name</th>\n",
       "      <th>provider_state</th>\n",
       "      <th>provider_street_address</th>\n",
       "      <th>provider_zip_code</th>\n",
       "      <th>total_discharges</th>\n",
       "    </tr>\n",
       "  </thead>\n",
       "  <tbody>\n",
       "    <tr>\n",
       "      <th>0</th>\n",
       "      <td>1126268.58</td>\n",
       "      <td>182770.86</td>\n",
       "      <td>189464.00</td>\n",
       "      <td>001 - HEART TRANSPLANT OR IMPLANT OF HEART ASS...</td>\n",
       "      <td>FL - Orlando</td>\n",
       "      <td>ORLANDO</td>\n",
       "      <td>100007</td>\n",
       "      <td>FLORIDA HOSPITAL</td>\n",
       "      <td>FL</td>\n",
       "      <td>601 E ROLLINS ST</td>\n",
       "      <td>32803</td>\n",
       "      <td>36</td>\n",
       "    </tr>\n",
       "    <tr>\n",
       "      <th>1</th>\n",
       "      <td>1050063.13</td>\n",
       "      <td>252782.53</td>\n",
       "      <td>301640.47</td>\n",
       "      <td>001 - HEART TRANSPLANT OR IMPLANT OF HEART ASS...</td>\n",
       "      <td>FL - Miami</td>\n",
       "      <td>MIAMI</td>\n",
       "      <td>100022</td>\n",
       "      <td>JACKSON MEMORIAL HOSPITAL</td>\n",
       "      <td>FL</td>\n",
       "      <td>1611 NW 12TH AVE</td>\n",
       "      <td>33136</td>\n",
       "      <td>15</td>\n",
       "    </tr>\n",
       "    <tr>\n",
       "      <th>2</th>\n",
       "      <td>569379.33</td>\n",
       "      <td>199879.20</td>\n",
       "      <td>211545.13</td>\n",
       "      <td>001 - HEART TRANSPLANT OR IMPLANT OF HEART ASS...</td>\n",
       "      <td>FL - Gainesville</td>\n",
       "      <td>GAINESVILLE</td>\n",
       "      <td>100113</td>\n",
       "      <td>UF HEALTH SHANDS HOSPITAL</td>\n",
       "      <td>FL</td>\n",
       "      <td>1600 SW ARCHER RD</td>\n",
       "      <td>32610</td>\n",
       "      <td>15</td>\n",
       "    </tr>\n",
       "    <tr>\n",
       "      <th>3</th>\n",
       "      <td>1058968.75</td>\n",
       "      <td>189331.79</td>\n",
       "      <td>198471.08</td>\n",
       "      <td>001 - HEART TRANSPLANT OR IMPLANT OF HEART ASS...</td>\n",
       "      <td>FL - Tampa</td>\n",
       "      <td>TAMPA</td>\n",
       "      <td>100128</td>\n",
       "      <td>TAMPA GENERAL HOSPITAL</td>\n",
       "      <td>FL</td>\n",
       "      <td>1 TAMPA GENERAL CIR</td>\n",
       "      <td>33606</td>\n",
       "      <td>24</td>\n",
       "    </tr>\n",
       "    <tr>\n",
       "      <th>4</th>\n",
       "      <td>802446.90</td>\n",
       "      <td>188267.90</td>\n",
       "      <td>321528.10</td>\n",
       "      <td>001 - HEART TRANSPLANT OR IMPLANT OF HEART ASS...</td>\n",
       "      <td>FL - Jacksonville</td>\n",
       "      <td>JACKSONVILLE</td>\n",
       "      <td>100151</td>\n",
       "      <td>MAYO CLINIC</td>\n",
       "      <td>FL</td>\n",
       "      <td>4500 SAN PABLO RD</td>\n",
       "      <td>32224</td>\n",
       "      <td>20</td>\n",
       "    </tr>\n",
       "  </tbody>\n",
       "</table>\n",
       "</div>"
      ],
      "text/plain": [
       "  average_covered_charges average_medicare_payments average_total_payments  \\\n",
       "0              1126268.58                 182770.86              189464.00   \n",
       "1              1050063.13                 252782.53              301640.47   \n",
       "2               569379.33                 199879.20              211545.13   \n",
       "3              1058968.75                 189331.79              198471.08   \n",
       "4               802446.90                 188267.90              321528.10   \n",
       "\n",
       "                                      drg_definition  \\\n",
       "0  001 - HEART TRANSPLANT OR IMPLANT OF HEART ASS...   \n",
       "1  001 - HEART TRANSPLANT OR IMPLANT OF HEART ASS...   \n",
       "2  001 - HEART TRANSPLANT OR IMPLANT OF HEART ASS...   \n",
       "3  001 - HEART TRANSPLANT OR IMPLANT OF HEART ASS...   \n",
       "4  001 - HEART TRANSPLANT OR IMPLANT OF HEART ASS...   \n",
       "\n",
       "  hospital_referral_region_hrr_description provider_city provider_id  \\\n",
       "0                             FL - Orlando       ORLANDO      100007   \n",
       "1                               FL - Miami         MIAMI      100022   \n",
       "2                         FL - Gainesville   GAINESVILLE      100113   \n",
       "3                               FL - Tampa         TAMPA      100128   \n",
       "4                        FL - Jacksonville  JACKSONVILLE      100151   \n",
       "\n",
       "               provider_name provider_state provider_street_address  \\\n",
       "0           FLORIDA HOSPITAL             FL        601 E ROLLINS ST   \n",
       "1  JACKSON MEMORIAL HOSPITAL             FL        1611 NW 12TH AVE   \n",
       "2  UF HEALTH SHANDS HOSPITAL             FL       1600 SW ARCHER RD   \n",
       "3     TAMPA GENERAL HOSPITAL             FL     1 TAMPA GENERAL CIR   \n",
       "4                MAYO CLINIC             FL       4500 SAN PABLO RD   \n",
       "\n",
       "  provider_zip_code total_discharges  \n",
       "0             32803               36  \n",
       "1             33136               15  \n",
       "2             32610               15  \n",
       "3             33606               24  \n",
       "4             32224               20  "
      ]
     },
     "execution_count": 42,
     "metadata": {},
     "output_type": "execute_result"
    }
   ],
   "source": [
    "# put the results from API into pandas dataframe\n",
    "df = pd.DataFrame.from_dict(results)\n",
    "df.head()"
   ]
  },
  {
   "cell_type": "code",
   "execution_count": 43,
   "metadata": {},
   "outputs": [
    {
     "data": {
      "text/plain": [
       "(1000, 12)"
      ]
     },
     "execution_count": 43,
     "metadata": {},
     "output_type": "execute_result"
    }
   ],
   "source": [
    "# results are limited to 1000 without an API token from CMS. \n",
    "df.shape"
   ]
  },
  {
   "cell_type": "markdown",
   "metadata": {},
   "source": [
    "### Call the API & Filter for NC records only\n",
    "\n",
    "* In this section, we can use SQL like query parameters and pass into the client.get method to filter the API call & results"
   ]
  },
  {
   "cell_type": "code",
   "execution_count": 45,
   "metadata": {},
   "outputs": [],
   "source": [
    "sql_query = \"\"\"\n",
    "select *\n",
    "where provider_state ='NC'\n",
    "\"\"\"\n",
    "\n",
    "nc_results = client.get(ipps_dataset_identifier,query=sql_query)"
   ]
  },
  {
   "cell_type": "code",
   "execution_count": 46,
   "metadata": {},
   "outputs": [
    {
     "data": {
      "text/html": [
       "<div>\n",
       "<style scoped>\n",
       "    .dataframe tbody tr th:only-of-type {\n",
       "        vertical-align: middle;\n",
       "    }\n",
       "\n",
       "    .dataframe tbody tr th {\n",
       "        vertical-align: top;\n",
       "    }\n",
       "\n",
       "    .dataframe thead th {\n",
       "        text-align: right;\n",
       "    }\n",
       "</style>\n",
       "<table border=\"1\" class=\"dataframe\">\n",
       "  <thead>\n",
       "    <tr style=\"text-align: right;\">\n",
       "      <th></th>\n",
       "      <th>average_covered_charges</th>\n",
       "      <th>average_medicare_payments</th>\n",
       "      <th>average_total_payments</th>\n",
       "      <th>drg_definition</th>\n",
       "      <th>hospital_referral_region_hrr_description</th>\n",
       "      <th>provider_city</th>\n",
       "      <th>provider_id</th>\n",
       "      <th>provider_name</th>\n",
       "      <th>provider_state</th>\n",
       "      <th>provider_street_address</th>\n",
       "      <th>provider_zip_code</th>\n",
       "      <th>total_discharges</th>\n",
       "    </tr>\n",
       "  </thead>\n",
       "  <tbody>\n",
       "    <tr>\n",
       "      <th>0</th>\n",
       "      <td>1016196.47</td>\n",
       "      <td>238105.04</td>\n",
       "      <td>254763.39</td>\n",
       "      <td>001 - HEART TRANSPLANT OR IMPLANT OF HEART ASS...</td>\n",
       "      <td>NC - Durham</td>\n",
       "      <td>DURHAM</td>\n",
       "      <td>340030</td>\n",
       "      <td>DUKE UNIVERSITY HOSPITAL</td>\n",
       "      <td>NC</td>\n",
       "      <td>PO BOX 3814 DUMC  ERWIN RD</td>\n",
       "      <td>27710</td>\n",
       "      <td>51</td>\n",
       "    </tr>\n",
       "    <tr>\n",
       "      <th>1</th>\n",
       "      <td>537981.31</td>\n",
       "      <td>209866.34</td>\n",
       "      <td>251556.45</td>\n",
       "      <td>001 - HEART TRANSPLANT OR IMPLANT OF HEART ASS...</td>\n",
       "      <td>NC - Durham</td>\n",
       "      <td>CHAPEL HILL</td>\n",
       "      <td>340061</td>\n",
       "      <td>UNIVERSITY OF NORTH CAROLINA HOSPITAL</td>\n",
       "      <td>NC</td>\n",
       "      <td>101 MANNING DRIVE</td>\n",
       "      <td>27514</td>\n",
       "      <td>29</td>\n",
       "    </tr>\n",
       "    <tr>\n",
       "      <th>2</th>\n",
       "      <td>511007.85</td>\n",
       "      <td>170683.38</td>\n",
       "      <td>177681.69</td>\n",
       "      <td>001 - HEART TRANSPLANT OR IMPLANT OF HEART ASS...</td>\n",
       "      <td>NC - Charlotte</td>\n",
       "      <td>CHARLOTTE</td>\n",
       "      <td>340113</td>\n",
       "      <td>CAROLINAS MEDICAL CENTER/BEHAV HEALTH</td>\n",
       "      <td>NC</td>\n",
       "      <td>1000 BLYTHE BLVD</td>\n",
       "      <td>28203</td>\n",
       "      <td>13</td>\n",
       "    </tr>\n",
       "    <tr>\n",
       "      <th>3</th>\n",
       "      <td>321673.22</td>\n",
       "      <td>93710.17</td>\n",
       "      <td>96528.28</td>\n",
       "      <td>003 - ECMO OR TRACH W MV &gt;96 HRS OR PDX EXC FA...</td>\n",
       "      <td>NC - Asheville</td>\n",
       "      <td>ASHEVILLE</td>\n",
       "      <td>340002</td>\n",
       "      <td>MEMORIAL MISSION HOSPITAL AND ASHEVILLE SURGER...</td>\n",
       "      <td>NC</td>\n",
       "      <td>509 BILTMORE AVE</td>\n",
       "      <td>28801</td>\n",
       "      <td>18</td>\n",
       "    </tr>\n",
       "    <tr>\n",
       "      <th>4</th>\n",
       "      <td>1370632.85</td>\n",
       "      <td>62729.38</td>\n",
       "      <td>64601.08</td>\n",
       "      <td>003 - ECMO OR TRACH W MV &gt;96 HRS OR PDX EXC FA...</td>\n",
       "      <td>NC - Winston-Salem</td>\n",
       "      <td>WINSTON-SALEM</td>\n",
       "      <td>340014</td>\n",
       "      <td>NOVANT HEALTH FORSYTH MEDICAL CENTER</td>\n",
       "      <td>NC</td>\n",
       "      <td>3333 SILAS CREEK PARKWAY</td>\n",
       "      <td>27103</td>\n",
       "      <td>13</td>\n",
       "    </tr>\n",
       "  </tbody>\n",
       "</table>\n",
       "</div>"
      ],
      "text/plain": [
       "  average_covered_charges average_medicare_payments average_total_payments  \\\n",
       "0              1016196.47                 238105.04              254763.39   \n",
       "1               537981.31                 209866.34              251556.45   \n",
       "2               511007.85                 170683.38              177681.69   \n",
       "3               321673.22                  93710.17               96528.28   \n",
       "4              1370632.85                  62729.38               64601.08   \n",
       "\n",
       "                                      drg_definition  \\\n",
       "0  001 - HEART TRANSPLANT OR IMPLANT OF HEART ASS...   \n",
       "1  001 - HEART TRANSPLANT OR IMPLANT OF HEART ASS...   \n",
       "2  001 - HEART TRANSPLANT OR IMPLANT OF HEART ASS...   \n",
       "3  003 - ECMO OR TRACH W MV >96 HRS OR PDX EXC FA...   \n",
       "4  003 - ECMO OR TRACH W MV >96 HRS OR PDX EXC FA...   \n",
       "\n",
       "  hospital_referral_region_hrr_description  provider_city provider_id  \\\n",
       "0                              NC - Durham         DURHAM      340030   \n",
       "1                              NC - Durham    CHAPEL HILL      340061   \n",
       "2                           NC - Charlotte      CHARLOTTE      340113   \n",
       "3                           NC - Asheville      ASHEVILLE      340002   \n",
       "4                       NC - Winston-Salem  WINSTON-SALEM      340014   \n",
       "\n",
       "                                       provider_name provider_state  \\\n",
       "0                           DUKE UNIVERSITY HOSPITAL             NC   \n",
       "1              UNIVERSITY OF NORTH CAROLINA HOSPITAL             NC   \n",
       "2              CAROLINAS MEDICAL CENTER/BEHAV HEALTH             NC   \n",
       "3  MEMORIAL MISSION HOSPITAL AND ASHEVILLE SURGER...             NC   \n",
       "4               NOVANT HEALTH FORSYTH MEDICAL CENTER             NC   \n",
       "\n",
       "      provider_street_address provider_zip_code total_discharges  \n",
       "0  PO BOX 3814 DUMC  ERWIN RD             27710               51  \n",
       "1           101 MANNING DRIVE             27514               29  \n",
       "2            1000 BLYTHE BLVD             28203               13  \n",
       "3            509 BILTMORE AVE             28801               18  \n",
       "4    3333 SILAS CREEK PARKWAY             27103               13  "
      ]
     },
     "execution_count": 46,
     "metadata": {},
     "output_type": "execute_result"
    }
   ],
   "source": [
    "nc_df = pd.DataFrame.from_dict(nc_results)\n",
    "nc_df.head()"
   ]
  },
  {
   "cell_type": "code",
   "execution_count": 47,
   "metadata": {},
   "outputs": [
    {
     "data": {
      "text/plain": [
       "(1000, 12)"
      ]
     },
     "execution_count": 47,
     "metadata": {},
     "output_type": "execute_result"
    }
   ],
   "source": [
    "nc_df.shape"
   ]
  },
  {
   "cell_type": "code",
   "execution_count": 50,
   "metadata": {},
   "outputs": [
    {
     "data": {
      "text/plain": [
       "average_covered_charges                     object\n",
       "average_medicare_payments                   object\n",
       "average_total_payments                      object\n",
       "drg_definition                              object\n",
       "hospital_referral_region_hrr_description    object\n",
       "provider_city                               object\n",
       "provider_id                                 object\n",
       "provider_name                               object\n",
       "provider_state                              object\n",
       "provider_street_address                     object\n",
       "provider_zip_code                           object\n",
       "total_discharges                            object\n",
       "dtype: object"
      ]
     },
     "execution_count": 50,
     "metadata": {},
     "output_type": "execute_result"
    }
   ],
   "source": [
    "nc_df.dtypes"
   ]
  },
  {
   "cell_type": "code",
   "execution_count": 51,
   "metadata": {},
   "outputs": [],
   "source": [
    "nc_df[\"average_medicare_payments\"] = nc_df[\"average_medicare_payments\"].astype(\"float\")\n",
    "nc_df[\"total_discharges\"] = nc_df[\"total_discharges\"].astype(\"int\")"
   ]
  },
  {
   "cell_type": "code",
   "execution_count": 54,
   "metadata": {},
   "outputs": [],
   "source": [
    "nc_df[\"medicare_total_paid\"] = nc_df[\"average_medicare_payments\"]*nc_df[\"total_discharges\"]"
   ]
  },
  {
   "cell_type": "code",
   "execution_count": 57,
   "metadata": {},
   "outputs": [
    {
     "data": {
      "text/plain": [
       "11763.625432807123"
      ]
     },
     "execution_count": 57,
     "metadata": {},
     "output_type": "execute_result"
    }
   ],
   "source": [
    "# avg blended case rate for this sample\n",
    "nc_df.medicare_total_paid.sum()/nc_df.total_discharges.sum()"
   ]
  }
 ],
 "metadata": {
  "kernelspec": {
   "display_name": "Python 3",
   "language": "python",
   "name": "python3"
  },
  "language_info": {
   "codemirror_mode": {
    "name": "ipython",
    "version": 3
   },
   "file_extension": ".py",
   "mimetype": "text/x-python",
   "name": "python",
   "nbconvert_exporter": "python",
   "pygments_lexer": "ipython3",
   "version": "3.6.8"
  }
 },
 "nbformat": 4,
 "nbformat_minor": 4
}
